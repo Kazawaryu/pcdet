{
 "cells": [
  {
   "cell_type": "code",
   "execution_count": 1,
   "metadata": {},
   "outputs": [],
   "source": [
    "import sys\n",
    "import numpy as np\n",
    "import cumm.tensorview as tv\n",
    "import spconv.pytorch as spconv\n",
    "\n",
    "import matplotlib.pyplot as plt\n",
    "import plotly.graph_objects as go\n",
    "\n",
    "import pickle\n",
    "sys.path.append('./origin_data/gpuVersion/')"
   ]
  },
  {
   "cell_type": "code",
   "execution_count": 2,
   "metadata": {},
   "outputs": [
    {
     "name": "stdout",
     "output_type": "stream",
     "text": [
      "points.shape = (19646, 4)\n",
      "image.shape = (375, 1242, 3)\n"
     ]
    }
   ],
   "source": [
    "with open('./origin_data/AxisAlignedTargetAssigner_GPU.pkl', 'rb') as f:\n",
    "    data = pickle.load(f)\n",
    "    \n",
    "points = data['points']\n",
    "image = data['images']\n",
    "print(f\"points.shape = {points.shape}\")\n",
    "print(f\"image.shape = {image.shape}\")"
   ]
  },
  {
   "cell_type": "code",
   "execution_count": 3,
   "metadata": {},
   "outputs": [],
   "source": [
    "# plt.figure(figsize=(12,6))\n",
    "# plt.imshow(image)\n",
    "# plt.axis('off')"
   ]
  },
  {
   "cell_type": "code",
   "execution_count": 4,
   "metadata": {},
   "outputs": [
    {
     "name": "stdout",
     "output_type": "stream",
     "text": [
      "(69850, 4)\n"
     ]
    }
   ],
   "source": [
    "data_path = '/home/jiazx_ug/dataset/S4/O/training/velodyne/005568.bin'\n",
    "label_path = '/home/jiazx_ug/dataset/S4/O/training/label_2/005568.txt'\n",
    "points = np.fromfile(data_path, dtype=np.float32).reshape(-1, 4)\n",
    "print(points.shape)"
   ]
  },
  {
   "cell_type": "code",
   "execution_count": 5,
   "metadata": {},
   "outputs": [],
   "source": [
    "# from visual_utils import plot_pc_data3d,PCD_SCENE, PCD_CAM_VIEW\n",
    "# lidar_3d_plots = [plot_pc_data3d(x=points[:,0], y=points[:,1], z=points[:,2], colorscale='viridis')]\n",
    "# layout = dict(template=\"plotly_dark\", scene_camera = PCD_CAM_VIEW, scene = PCD_SCENE, title=\"POINT CLOUD VISUALIZATION\")\n",
    "# fig = go.Figure(data=lidar_3d_plots, layout=layout)\n",
    "# fig.show()"
   ]
  },
  {
   "cell_type": "markdown",
   "metadata": {},
   "source": [
    "# Voxel Generation"
   ]
  },
  {
   "cell_type": "code",
   "execution_count": 6,
   "metadata": {},
   "outputs": [],
   "source": [
    "vsize_xyz = np.array([0.5, 0.5, 1])                  # voxel size in x,y,z \n",
    "coors_range_xyz = np.array([-70.4, -40, -3, 70.4, 40, 1])  # KITTI point cloud range\n",
    "num_point_features = 4                                 # x,y,z, intensity \n",
    "max_num_points_per_voxel = 5               \n",
    "max_num_voxels = 16000"
   ]
  },
  {
   "cell_type": "code",
   "execution_count": 7,
   "metadata": {},
   "outputs": [],
   "source": [
    "from spconv.utils import Point2VoxelCPU3d as VoxelGenerator\n",
    "\n",
    "voxel_generator = VoxelGenerator(\n",
    "                vsize_xyz=vsize_xyz,\n",
    "                coors_range_xyz=coors_range_xyz,\n",
    "                num_point_features=num_point_features,\n",
    "                max_num_points_per_voxel=max_num_points_per_voxel,\n",
    "                max_num_voxels=max_num_voxels\n",
    "            )\n",
    "\n",
    "# generate voxels from point cloud data\n",
    "tv_voxels, tv_voxel_indices, tv_num_points = voxel_generator.point_to_voxel(tv.from_numpy(points))"
   ]
  },
  {
   "cell_type": "code",
   "execution_count": 8,
   "metadata": {},
   "outputs": [
    {
     "name": "stdout",
     "output_type": "stream",
     "text": [
      "voxels.shape = (7519, 5, 4)\n",
      "voxel_indices.shape = (7519, 3)\n",
      "num_points.shape = (7519,)\n"
     ]
    }
   ],
   "source": [
    "# make copy with numpy(), since numpy_view() will disappear as soon as the generator is deleted\n",
    "voxels = tv_voxels.numpy()\n",
    "voxel_indices = tv_voxel_indices.numpy()\n",
    "num_points = tv_num_points.numpy()\n",
    "\n",
    "print(f\"voxels.shape = {voxels.shape}\")\n",
    "print(f\"voxel_indices.shape = {voxel_indices.shape}\")\n",
    "print(f\"num_points.shape = {num_points.shape}\")"
   ]
  },
  {
   "cell_type": "code",
   "execution_count": 9,
   "metadata": {},
   "outputs": [
    {
     "name": "stdout",
     "output_type": "stream",
     "text": [
      "voxelBBoxes.shape = (7519, 7)\n",
      "voxelCorners.shape = (7519, 8, 3)\n"
     ]
    }
   ],
   "source": [
    "# converting grid indices to actual 3D coordinates\n",
    "# indices give bottom left corner, add half voxel size to get voxel centres\n",
    "voxelCentres = (voxel_indices[:, ::-1] * vsize_xyz) + (coors_range_xyz[0:3]) + (vsize_xyz * 0.5)\n",
    "\n",
    "# Changing to [x,y,z,dx,dy,dz,yaw] format to find voxel corners\n",
    "voxelBBoxes = np.column_stack((voxelCentres, np.repeat( np.append(vsize_xyz, 0.0)[None,:], len(voxel_indices), axis=0)))\n",
    "print(f\"voxelBBoxes.shape = {voxelBBoxes.shape}\")\n",
    "\n",
    "from visual_utils import boxes_to_corners_3d\n",
    "voxelCorners = boxes_to_corners_3d(voxelBBoxes)\n",
    "print(f\"voxelCorners.shape = {voxelCorners.shape}\")"
   ]
  },
  {
   "cell_type": "markdown",
   "metadata": {},
   "source": [
    "# Sparse convolution"
   ]
  },
  {
   "cell_type": "code",
   "execution_count": 10,
   "metadata": {},
   "outputs": [
    {
     "name": "stdout",
     "output_type": "stream",
     "text": [
      "voxelbackbone8x(\n",
      "  (conv_input): SparseSequential(\n",
      "    (0): SubMConv3d(4, 16, kernel_size=[3, 3, 3], stride=[1, 1, 1], padding=[1, 1, 1], dilation=[1, 1, 1], output_padding=[0, 0, 0], bias=False, algo=ConvAlgo.MaskImplicitGemm)\n",
      "    (1): BatchNorm1d(16, eps=0.001, momentum=0.01, affine=True, track_running_stats=True)\n",
      "    (2): ReLU()\n",
      "  )\n",
      ")\n"
     ]
    }
   ],
   "source": [
    "import torch\n",
    "import torch.nn as nn\n",
    "from functools import partial\n",
    "\n",
    "def meanVFE(voxel_features, voxel_num_points):\n",
    "    points_mean = voxel_features[:, :, :].sum(dim=1, keepdim=False) # Use sum() instead of _sum()\n",
    "    normalizer = torch.clamp_min(voxel_num_points.view(-1, 1), min=1.0).type_as(voxel_features)\n",
    "    points_mean = points_mean / normalizer # sum / count for each voxel\n",
    "    return points_mean.contiguous()\n",
    "\n",
    "class voxelbackbone8x(nn.Module):\n",
    "    def __init__(self, input_channels, grid_size):\n",
    "        super().__init__()\n",
    "        norm_fn = partial(nn.BatchNorm1d, eps=1e-3, momentum=0.01)\n",
    "        self.sparse_shape = grid_size[::-1] + [1, 0, 0]\n",
    "\n",
    "        self.conv_input = spconv.SparseSequential(\n",
    "            spconv.SubMConv3d(input_channels, 16, 3, padding=1, bias=False, indice_key=\"subm0\").to(0),\n",
    "            norm_fn(16).to(0),\n",
    "            nn.ReLU()\n",
    "        )\n",
    "\n",
    "    def forward(self, voxel_features, voxel_coords):\n",
    "        sp_tensor = spconv.SparseConvTensor(\n",
    "            features = voxel_features,\n",
    "            indices = voxel_coords,\n",
    "            spatial_shape = self.sparse_shape,\n",
    "            batch_size = 1\n",
    "        )\n",
    "\n",
    "        x = self.conv_input(sp_tensor)\n",
    "        return x\n",
    "\n",
    "torch_voxels = torch.from_numpy(voxels)\n",
    "torch_num_points = torch.from_numpy(num_points)\n",
    "torch_indices = torch.from_numpy(voxel_indices)\n",
    "\n",
    "mean_vfe = meanVFE(torch_voxels, torch_num_points)\n",
    "coordinates = torch.cat([torch.zeros_like(torch_indices[:, :1]), torch_indices], dim=1)\n",
    "for i in range(len(coordinates)):\n",
    "    coordinates[i, 0] = i\n",
    "\n",
    "grid_size = (coors_range_xyz[3:6] - coors_range_xyz[0:3]) / np.array(vsize_xyz)\n",
    "grid_size = np.round(grid_size).astype(np.int64)\n",
    "# print(grid_size[::] + [0, 0, 1])\n",
    "\n",
    "# load mean_vfe, coordinates to gpu\n",
    "\n",
    "\n",
    "backbone = voxelbackbone8x(input_channels=4, grid_size=grid_size)\n",
    "print(backbone)\n",
    "torch_voxel_coords = torch.from_numpy(voxel_indices).int()\n",
    "torch_voxel_features = backbone(mean_vfe.to(0), coordinates.to(0))\n"
   ]
  },
  {
   "cell_type": "code",
   "execution_count": 11,
   "metadata": {},
   "outputs": [],
   "source": [
    "# # print backbones parameters\n",
    "# for name, param in backbone.named_parameters():\n",
    "#     print(name, param.size())\n",
    "#     print(param)"
   ]
  },
  {
   "cell_type": "code",
   "execution_count": 12,
   "metadata": {},
   "outputs": [
    {
     "name": "stdout",
     "output_type": "stream",
     "text": [
      "(282, 160, 4)\n"
     ]
    }
   ],
   "source": [
    "indices = torch_voxel_features.indices.int().cpu().numpy()\n",
    "indices_3d = np.zeros(grid_size, dtype=np.int32)\n",
    "# /hqlab/public_dataset/cadc/dataset/cadcd\n",
    "indices_3d[indices[:,3],indices[:,2],indices[:,1]] = indices[:,0]\n",
    "\n",
    "print(indices_3d.shape)"
   ]
  },
  {
   "cell_type": "code",
   "execution_count": 13,
   "metadata": {},
   "outputs": [],
   "source": [
    "with open(label_path, 'r') as f:\n",
    "    labels = f.readlines()\n",
    "\n",
    "corners_3Ds = []\n",
    "\n",
    "for line in labels:\n",
    "    line = line.split()\n",
    "    lab, x, y, z, w, l, h, rot = line[0], line[11], line[12], line[13], line[9], line[10], line[8], line[14]\n",
    "    h, w, l, x, y, z, rot = map(float, [h, w, l, x, y, z, rot])\n",
    "    \n",
    "    if lab != 'DontCare':\n",
    "        x_corners = [l / 2, l / 2, -l / 2, -l / 2, l / 2, l / 2, -l / 2, -l / 2]\n",
    "        y_corners = [0, 0, 0, 0, -h, -h, -h, -h]\n",
    "        z_corners = [w / 2, -w / 2, -w / 2, w / 2, w / 2, -w / 2, -w / 2, w / 2]\n",
    "        corners_3d = np.vstack([x_corners, y_corners, z_corners])  # (3, 8)\n",
    "\n",
    "        # transform the 3d bbox from object coordiante to camera_0 coordinate\n",
    "        R = np.array([[np.cos(rot), 0, np.sin(rot)],\n",
    "                    [0, 1, 0],\n",
    "                    [-np.sin(rot), 0, np.cos(rot)]])\n",
    "   \n",
    "        corners_3d = np.dot(R, corners_3d).T + np.array([x, y, z])\n",
    "\n",
    "        # transform the 3d bbox from camera_0 coordinate to velodyne coordinate\n",
    "        corners_3d = corners_3d[:, [2, 0, 1]] * np.array([[1, -1, -1]])\n",
    "        corners_3Ds.append(corners_3d)\n",
    "        "
   ]
  },
  {
   "cell_type": "code",
   "execution_count": 14,
   "metadata": {},
   "outputs": [
    {
     "name": "stdout",
     "output_type": "stream",
     "text": [
      "(5, 8, 3)\n"
     ]
    }
   ],
   "source": [
    "# change corner3d into voxel_indices coordinate, vsize_xyz = np.array([0.5, 0.5, 1]) ,coors_range_xyz = np.array([-70.4, -40, -3, 70.4, 40, 1]) \n",
    "corners_voxel = np.array(corners_3Ds)\n",
    "corners_voxel = (corners_voxel - coors_range_xyz[0:3] - 0.5 * vsize_xyz) / vsize_xyz\n",
    "# corners_voxel = (corners_voxel - coors_range_xyz[0:3]) / vsize_xyz - 0.5\n",
    "corners_voxel = corners_voxel.astype(np.int32)\n",
    "print(corners_voxel.shape)\n",
    "output_txt = './output_temp.txt'\n",
    "with open(output_txt, 'w') as f:\n",
    "    for corner in corners_voxel:\n",
    "        for c in corner:\n",
    "            f.write(f'{c[0]} {c[1]} {c[2]}\\n')\n",
    "        f.write('\\n')\n"
   ]
  },
  {
   "cell_type": "code",
   "execution_count": 15,
   "metadata": {},
   "outputs": [
    {
     "name": "stdout",
     "output_type": "stream",
     "text": [
      "204\n"
     ]
    }
   ],
   "source": [
    "class isPointInQuadrangle(object):\n",
    "    def __int__(self):\n",
    "        self.__isInQuadrangleFlag = False\n",
    "\n",
    "    def cross_product(self, xp, yp, x1, y1, x2, y2):\n",
    "        return (x2 - x1) * (yp - y1)-(y2 - y1) * (xp - x1)\n",
    "\n",
    "    def compute_para(self, xp, yp, xa, ya, xb, yb, xc, yc, xd, yd):\n",
    "        cross_product_ab = isPointInQuadrangle().cross_product(xp, yp, xa, ya, xb, yb)\n",
    "        cross_product_bc = isPointInQuadrangle().cross_product(xp, yp, xb, yb, xc, yc)\n",
    "        cross_product_cd = isPointInQuadrangle().cross_product(xp, yp, xc, yc, xd, yd)\n",
    "        cross_product_da = isPointInQuadrangle().cross_product(xp, yp, xd, yd, xa, ya)\n",
    "        return cross_product_ab,cross_product_bc,cross_product_cd,cross_product_da\n",
    "\n",
    "    def is_in_rect(self, aa, bb, cc, dd):\n",
    "        if (aa > 0 and bb > 0 and cc > 0 and dd > 0) or (aa < 0 and bb < 0 and cc < 0 and dd < 0):\n",
    "            self.__isInQuadrangleFlag= True\n",
    "        else:\n",
    "            self.__isInQuadrangleFlag = False\n",
    "\n",
    "        return self.__isInQuadrangleFlag\n",
    "    \n",
    "feature_keys = []\n",
    "checker = isPointInQuadrangle()\n",
    "# for corner in corners_voxel:\n",
    "#     max_x,min_x,max_y,min_y = np.max(corner[:,0]),np.min(corner[:,0]),np.max(corner[:,1]),np.min(corner[:,1])\n",
    "#     x = np.arange(int(min_x),int(max_x)+1)\n",
    "#     y = np.arange(int(min_y),int(max_y)+1)\n",
    "#     for i in x:\n",
    "#         for j in y:\n",
    "#             feature_keys.append((i,j,corner[0][2]))\n",
    "# print(len(feature_keys))\n",
    "\n",
    "for corner in corners_voxel:\n",
    "    vector01 = corner[1] - corner[0]\n",
    "    vector03 = corner[3] - corner[0]\n",
    "    square_area = np.linalg.norm(np.cross(vector01, vector03))\n",
    "    max_x,min_x,max_y,min_y = np.max(corner[:,0]),np.min(corner[:,0]),np.max(corner[:,1]),np.min(corner[:,1])\n",
    "    x = np.arange(int(min_x),int(max_x)+1)\n",
    "    y = np.arange(int(min_y),int(max_y)+1)\n",
    "    for i in x:\n",
    "        for j in y:\n",
    "            a,b,c,d = checker.compute_para(i,j,corner[0][0],corner[0][1],corner[1][0],corner[1][1],corner[2][0],corner[2][1],corner[3][0],corner[3][1])\n",
    "            if checker.is_in_rect(a,b,c,d):\n",
    "                for k in range(corner[0][2],corner[4][2]+1):\n",
    "                    feature_keys.append((i,j,k))\n",
    "\n",
    "print(len(feature_keys))"
   ]
  },
  {
   "cell_type": "code",
   "execution_count": 16,
   "metadata": {},
   "outputs": [
    {
     "name": "stdout",
     "output_type": "stream",
     "text": [
      "66\n"
     ]
    }
   ],
   "source": [
    "features = []\n",
    "conved_features = torch_voxel_features.features.cpu().detach().numpy()\n",
    "for key in feature_keys:\n",
    "    if key[0] < 0 or key[0] >= grid_size[0] or key[1] < 0 or key[1] >= grid_size[1] or key[2] < 0 or key[2] >= grid_size[2]:\n",
    "        continue\n",
    "    indice = indices_3d[key[0],key[1],key[2]]\n",
    "    features.append(conved_features[indice])\n",
    "print(len(features))    "
   ]
  },
  {
   "cell_type": "code",
   "execution_count": 17,
   "metadata": {},
   "outputs": [],
   "source": [
    "# import random\n",
    "# from visual_utils import plot_bboxes_3d\n",
    "# from visual_utils import plot_pc_data3d,PCD_SCENE, PCD_CAM_VIEW\n",
    "# hexadecimal_alphabets = '0123456789ABCDEF'\n",
    "# color = [\"#\" + ''.join([random.choice(hexadecimal_alphabets) for j in range(6)]) for i in range(voxel_indices.shape[0])]\n",
    "\n",
    "# voxel_generator_plots = [plot_pc_data3d(x=points[:,0], y=points[:,1], z=points[:,2], opacity=0.1, colorscale='viridis')]\n",
    "# voxel_generator_plots.extend(plot_bboxes_3d(voxelCorners, color))\n",
    "\n",
    "# for vox_idx in range(voxel_indices.shape[0]):\n",
    "#     voxel_points = voxels[vox_idx, 0 : num_points[vox_idx], 0:3]\n",
    "#     print(voxel_points)\n",
    "#     voxel_generator_plots.append(plot_pc_data3d(x=voxel_points[:,0], y=voxel_points[:,1], z=voxel_points[:,2], \\\n",
    "#                                                 apply_color_gradient=False, color=color[vox_idx]))\n",
    "    \n",
    "# for voxel_points in corners_3Ds:\n",
    "#     voxel_generator_plots.append(plot_pc_data3d(x=voxel_points[:,0], y=voxel_points[:,1], z=voxel_points[:,2], \\\n",
    "#                                                 apply_color_gradient=False, color='red'))\n",
    "\n",
    "# layout = dict(scene=PCD_SCENE, scene_camera = PCD_CAM_VIEW, title=\"VOXEL GENERATOR PLOTS\", template=\"plotly_dark\")\n",
    "# fig = go.Figure(data=voxel_generator_plots, layout=layout)\n",
    "# fig.show()  "
   ]
  },
  {
   "cell_type": "code",
   "execution_count": 18,
   "metadata": {},
   "outputs": [],
   "source": [
    "# plt.figure(figsize=(8,8))\n",
    "# plt.scatter(points[:,1], points[:,0], alpha=0.1, s=2)\n",
    "\n",
    "# for vox_idx in range(len(voxel_indices)):\n",
    "#     voxel_points = voxels[vox_idx, 0 : num_points[vox_idx], 0:3]\n",
    "#     plt.scatter(voxel_points[:,1], voxel_points[:,0], s=2, label=f\"Voxel_{vox_idx}\")\n",
    "#     voxelBoxCornersBEV = voxelCorners[vox_idx, [0,1,2,3,0], 0:2]\n",
    "#     plt.plot(voxelBoxCornersBEV[:,1], voxelBoxCornersBEV[:,0], label=f\"Voxel_BBox{vox_idx}\")\n",
    "# plt.show()"
   ]
  }
 ],
 "metadata": {
  "kernelspec": {
   "display_name": "det_cu117",
   "language": "python",
   "name": "python3"
  },
  "language_info": {
   "codemirror_mode": {
    "name": "ipython",
    "version": 3
   },
   "file_extension": ".py",
   "mimetype": "text/x-python",
   "name": "python",
   "nbconvert_exporter": "python",
   "pygments_lexer": "ipython3",
   "version": "3.8.undefined"
  }
 },
 "nbformat": 4,
 "nbformat_minor": 2
}
