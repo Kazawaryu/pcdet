{
 "cells": [
  {
   "cell_type": "markdown",
   "metadata": {},
   "source": [
    "# Sparse Conv Feature"
   ]
  },
  {
   "cell_type": "code",
   "execution_count": 1,
   "metadata": {},
   "outputs": [],
   "source": [
    "from voxelize import *\n",
    "import os\n",
    "from tqdm import tqdm\n",
    "# data_path = '/home/jiazx_ug/dataset/S4/O/training/velodyne/335422.bin'\n",
    "# label_path = '/home/jiazx_ug/dataset/S4/O/training/label_2/335422.txt'\n",
    "\n",
    "data_dir = '/home/jiazx_ug/dataset/S4/O/training/velodyne/'\n",
    "label_dir = '/home/jiazx_ug/dataset/S4/O/training/label_2/'\n",
    "\n",
    "idx_list = [str(data.split('.')[0]) for data in os.listdir(data_dir)]\n",
    "idx_list.sort()"
   ]
  },
  {
   "cell_type": "code",
   "execution_count": 2,
   "metadata": {},
   "outputs": [],
   "source": [
    "label_dict = {'Car':0, 'Pedestrian':1, 'Rider':2, 'Truck':3, 'Van':4}\n",
    "vsize_xyz = np.array([0.5, 0.5, 1])       \n",
    "coors_range_xyz = np.array([-70.4, -40, -3, 70.4, 40, 1])  \n",
    "num_point_features = 4                                 \n",
    "max_num_points_per_voxel = 5               \n",
    "max_num_voxels = 16000\n",
    "input_channels = 4\n",
    "\n",
    "grid_size = get_grid_size(coors_range_xyz, vsize_xyz)\n",
    "backbone = input_backbone(input_channels, grid_size)\n",
    "checker = isPointInQuadrangle()"
   ]
  },
  {
   "cell_type": "code",
   "execution_count": 4,
   "metadata": {},
   "outputs": [
    {
     "name": "stderr",
     "output_type": "stream",
     "text": [
      "100%|██████████| 11938/11938 [12:15<00:00, 16.23it/s]\n"
     ]
    }
   ],
   "source": [
    "all_features = []\n",
    "all_labels = []\n",
    "\n",
    "for idx in tqdm(idx_list):\n",
    "    data_path = data_dir + idx + '.bin'\n",
    "    label_path = label_dir + idx + '.txt'\n",
    "    \n",
    "    points = read_data(data_path)\n",
    "    voxels, voxel_indices, num_points = create_voxel(points, vsize_xyz, coors_range_xyz,num_point_features ,max_num_points_per_voxel, max_num_voxels)\n",
    "    input_feature, input_indices = get_input_feature(voxels, num_points, voxel_indices, backbone)\n",
    "    indices_3d = indices_to_3d(input_indices, grid_size)\n",
    "\n",
    "    corners_3Ds, label_obj = read_label(label_path)\n",
    "    corners_voxelaxis = corners_to_voxelaxis(corners_3Ds, coors_range_xyz, vsize_xyz)\n",
    "    feature_keys = get_inner_voxel(corners_voxelaxis, checker)\n",
    "    features, labels = get_inner_voxel_feature(input_feature, indices_3d, feature_keys, grid_size, label_obj)\n",
    "    all_features += features\n",
    "    all_labels += labels\n",
    "    \n",
    "    #tqdm.write(f\"IDX {idx} with {len(features)}, all {len(all_features)}\")\n"
   ]
  },
  {
   "cell_type": "code",
   "execution_count": 5,
   "metadata": {},
   "outputs": [
    {
     "data": {
      "text/plain": [
       "(5687309, 16)"
      ]
     },
     "execution_count": 5,
     "metadata": {},
     "output_type": "execute_result"
    }
   ],
   "source": [
    "feature_array = np.array(all_features)\n",
    "feature_array.shape"
   ]
  },
  {
   "cell_type": "markdown",
   "metadata": {},
   "source": [
    "# MRMR"
   ]
  },
  {
   "cell_type": "code",
   "execution_count": 7,
   "metadata": {},
   "outputs": [
    {
     "data": {
      "text/plain": [
       "((5687309, 16), (5687309,))"
      ]
     },
     "execution_count": 7,
     "metadata": {},
     "output_type": "execute_result"
    }
   ],
   "source": [
    "import pandas as pd\n",
    "from mrmr import mrmr_classif\n",
    "feature_array = pd.DataFrame(feature_array)\n",
    "feature_label = pd.Series(all_labels)\n",
    "feature_array.shape, feature_label.shape"
   ]
  },
  {
   "cell_type": "code",
   "execution_count": 14,
   "metadata": {},
   "outputs": [
    {
     "name": "stderr",
     "output_type": "stream",
     "text": [
      "100%|██████████| 3/3 [00:06<00:00,  2.33s/it]\n"
     ]
    },
    {
     "data": {
      "text/plain": [
       "[5, 8, 3]"
      ]
     },
     "execution_count": 14,
     "metadata": {},
     "output_type": "execute_result"
    }
   ],
   "source": [
    "selected_features = mrmr_classif(X=feature_array, y=feature_label, K=3)\n",
    "selected_features"
   ]
  },
  {
   "cell_type": "code",
   "execution_count": 33,
   "metadata": {},
   "outputs": [
    {
     "data": {
      "text/html": [
       "<div>\n",
       "<style scoped>\n",
       "    .dataframe tbody tr th:only-of-type {\n",
       "        vertical-align: middle;\n",
       "    }\n",
       "\n",
       "    .dataframe tbody tr th {\n",
       "        vertical-align: top;\n",
       "    }\n",
       "\n",
       "    .dataframe thead th {\n",
       "        text-align: right;\n",
       "    }\n",
       "</style>\n",
       "<table border=\"1\" class=\"dataframe\">\n",
       "  <thead>\n",
       "    <tr style=\"text-align: right;\">\n",
       "      <th></th>\n",
       "      <th>0</th>\n",
       "      <th>1</th>\n",
       "      <th>2</th>\n",
       "      <th>3</th>\n",
       "      <th>4</th>\n",
       "      <th>5</th>\n",
       "      <th>6</th>\n",
       "      <th>7</th>\n",
       "      <th>8</th>\n",
       "      <th>9</th>\n",
       "      <th>10</th>\n",
       "      <th>11</th>\n",
       "      <th>12</th>\n",
       "      <th>13</th>\n",
       "      <th>14</th>\n",
       "      <th>15</th>\n",
       "    </tr>\n",
       "  </thead>\n",
       "  <tbody>\n",
       "    <tr>\n",
       "      <th>0</th>\n",
       "      <td>0.0</td>\n",
       "      <td>0.0</td>\n",
       "      <td>0.938805</td>\n",
       "      <td>1.180978</td>\n",
       "      <td>0.274972</td>\n",
       "      <td>1.323238</td>\n",
       "      <td>0.0</td>\n",
       "      <td>1.026129</td>\n",
       "      <td>0.193213</td>\n",
       "      <td>0.694095</td>\n",
       "      <td>0.000000</td>\n",
       "      <td>0.396268</td>\n",
       "      <td>0.056021</td>\n",
       "      <td>0.0</td>\n",
       "      <td>0.975139</td>\n",
       "      <td>0.0</td>\n",
       "    </tr>\n",
       "    <tr>\n",
       "      <th>1</th>\n",
       "      <td>0.0</td>\n",
       "      <td>0.0</td>\n",
       "      <td>0.938805</td>\n",
       "      <td>1.180978</td>\n",
       "      <td>0.274972</td>\n",
       "      <td>1.323238</td>\n",
       "      <td>0.0</td>\n",
       "      <td>1.026129</td>\n",
       "      <td>0.193213</td>\n",
       "      <td>0.694095</td>\n",
       "      <td>0.000000</td>\n",
       "      <td>0.396268</td>\n",
       "      <td>0.056021</td>\n",
       "      <td>0.0</td>\n",
       "      <td>0.975139</td>\n",
       "      <td>0.0</td>\n",
       "    </tr>\n",
       "    <tr>\n",
       "      <th>2</th>\n",
       "      <td>0.0</td>\n",
       "      <td>0.0</td>\n",
       "      <td>1.214502</td>\n",
       "      <td>0.702635</td>\n",
       "      <td>1.910038</td>\n",
       "      <td>0.516538</td>\n",
       "      <td>0.0</td>\n",
       "      <td>0.000000</td>\n",
       "      <td>1.961679</td>\n",
       "      <td>1.532110</td>\n",
       "      <td>1.901384</td>\n",
       "      <td>1.848315</td>\n",
       "      <td>1.955724</td>\n",
       "      <td>0.0</td>\n",
       "      <td>0.000000</td>\n",
       "      <td>0.0</td>\n",
       "    </tr>\n",
       "    <tr>\n",
       "      <th>3</th>\n",
       "      <td>0.0</td>\n",
       "      <td>0.0</td>\n",
       "      <td>0.938805</td>\n",
       "      <td>1.180978</td>\n",
       "      <td>0.274972</td>\n",
       "      <td>1.323238</td>\n",
       "      <td>0.0</td>\n",
       "      <td>1.026129</td>\n",
       "      <td>0.193213</td>\n",
       "      <td>0.694095</td>\n",
       "      <td>0.000000</td>\n",
       "      <td>0.396268</td>\n",
       "      <td>0.056021</td>\n",
       "      <td>0.0</td>\n",
       "      <td>0.975139</td>\n",
       "      <td>0.0</td>\n",
       "    </tr>\n",
       "    <tr>\n",
       "      <th>4</th>\n",
       "      <td>0.0</td>\n",
       "      <td>0.0</td>\n",
       "      <td>0.938805</td>\n",
       "      <td>1.180978</td>\n",
       "      <td>0.274972</td>\n",
       "      <td>1.323238</td>\n",
       "      <td>0.0</td>\n",
       "      <td>1.026129</td>\n",
       "      <td>0.193213</td>\n",
       "      <td>0.694095</td>\n",
       "      <td>0.000000</td>\n",
       "      <td>0.396268</td>\n",
       "      <td>0.056021</td>\n",
       "      <td>0.0</td>\n",
       "      <td>0.975139</td>\n",
       "      <td>0.0</td>\n",
       "    </tr>\n",
       "  </tbody>\n",
       "</table>\n",
       "</div>"
      ],
      "text/plain": [
       "    0    1         2         3         4         5    6         7         8   \\\n",
       "0  0.0  0.0  0.938805  1.180978  0.274972  1.323238  0.0  1.026129  0.193213   \n",
       "1  0.0  0.0  0.938805  1.180978  0.274972  1.323238  0.0  1.026129  0.193213   \n",
       "2  0.0  0.0  1.214502  0.702635  1.910038  0.516538  0.0  0.000000  1.961679   \n",
       "3  0.0  0.0  0.938805  1.180978  0.274972  1.323238  0.0  1.026129  0.193213   \n",
       "4  0.0  0.0  0.938805  1.180978  0.274972  1.323238  0.0  1.026129  0.193213   \n",
       "\n",
       "         9         10        11        12   13        14   15  \n",
       "0  0.694095  0.000000  0.396268  0.056021  0.0  0.975139  0.0  \n",
       "1  0.694095  0.000000  0.396268  0.056021  0.0  0.975139  0.0  \n",
       "2  1.532110  1.901384  1.848315  1.955724  0.0  0.000000  0.0  \n",
       "3  0.694095  0.000000  0.396268  0.056021  0.0  0.975139  0.0  \n",
       "4  0.694095  0.000000  0.396268  0.056021  0.0  0.975139  0.0  "
      ]
     },
     "execution_count": 33,
     "metadata": {},
     "output_type": "execute_result"
    }
   ],
   "source": [
    "feature_array.head()"
   ]
  },
  {
   "cell_type": "code",
   "execution_count": 1,
   "metadata": {},
   "outputs": [
    {
     "ename": "NameError",
     "evalue": "name 'np' is not defined",
     "output_type": "error",
     "traceback": [
      "\u001b[0;31m---------------------------------------------------------------------------\u001b[0m",
      "\u001b[0;31mNameError\u001b[0m                                 Traceback (most recent call last)",
      "Cell \u001b[0;32mIn[1], line 5\u001b[0m\n\u001b[1;32m      2\u001b[0m \u001b[38;5;28;01mimport\u001b[39;00m \u001b[38;5;21;01mmatplotlib\u001b[39;00m\u001b[38;5;21;01m.\u001b[39;00m\u001b[38;5;21;01mpyplot\u001b[39;00m \u001b[38;5;28;01mas\u001b[39;00m \u001b[38;5;21;01mplt\u001b[39;00m\n\u001b[1;32m      3\u001b[0m \u001b[38;5;28;01mfrom\u001b[39;00m \u001b[38;5;21;01mmpl_toolkits\u001b[39;00m\u001b[38;5;21;01m.\u001b[39;00m\u001b[38;5;21;01mmplot3d\u001b[39;00m \u001b[38;5;28;01mimport\u001b[39;00m Axes3D\n\u001b[0;32m----> 5\u001b[0m idx \u001b[38;5;241m=\u001b[39m \u001b[43mnp\u001b[49m\u001b[38;5;241m.\u001b[39mrandom\u001b[38;5;241m.\u001b[39mchoice(\u001b[38;5;28mlen\u001b[39m(feature_array), \u001b[38;5;28mlen\u001b[39m(feature_array)\u001b[38;5;241m/\u001b[39m\u001b[38;5;241m/\u001b[39m\u001b[38;5;241m1000\u001b[39m)\n\u001b[1;32m      6\u001b[0m fig \u001b[38;5;241m=\u001b[39m plt\u001b[38;5;241m.\u001b[39mfigure(figsize\u001b[38;5;241m=\u001b[39m(\u001b[38;5;241m5\u001b[39m, \u001b[38;5;241m5\u001b[39m))\n\u001b[1;32m      7\u001b[0m ax \u001b[38;5;241m=\u001b[39m fig\u001b[38;5;241m.\u001b[39madd_subplot(\u001b[38;5;241m111\u001b[39m, projection\u001b[38;5;241m=\u001b[39m\u001b[38;5;124m'\u001b[39m\u001b[38;5;124m3d\u001b[39m\u001b[38;5;124m'\u001b[39m)\n",
      "\u001b[0;31mNameError\u001b[0m: name 'np' is not defined"
     ]
    }
   ],
   "source": [
    "# visualize the selected features in 3d, color by label\n",
    "import matplotlib.pyplot as plt\n",
    "from mpl_toolkits.mplot3d import Axes3D\n",
    "\n",
    "idx = np.random.choice(len(feature_array), len(feature_array)//1000)\n",
    "fig = plt.figure(figsize=(5, 5))\n",
    "ax = fig.add_subplot(111, projection='3d')\n",
    "ax.scatter(feature_array[selected_features[0]].iloc[idx], feature_array[selected_features[1]].iloc[idx], feature_array[selected_features[2]].iloc[idx], c=feature_label.iloc[idx])\n",
    "plt.show()\n"
   ]
  },
  {
   "cell_type": "markdown",
   "metadata": {},
   "source": [
    "# Selection"
   ]
  },
  {
   "cell_type": "code",
   "execution_count": null,
   "metadata": {},
   "outputs": [],
   "source": []
  }
 ],
 "metadata": {
  "kernelspec": {
   "display_name": "det_cu117",
   "language": "python",
   "name": "python3"
  },
  "language_info": {
   "codemirror_mode": {
    "name": "ipython",
    "version": 3
   },
   "file_extension": ".py",
   "mimetype": "text/x-python",
   "name": "python",
   "nbconvert_exporter": "python",
   "pygments_lexer": "ipython3",
   "version": "3.8.18"
  }
 },
 "nbformat": 4,
 "nbformat_minor": 2
}
