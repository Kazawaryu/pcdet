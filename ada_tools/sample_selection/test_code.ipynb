{
 "cells": [
  {
   "cell_type": "markdown",
   "metadata": {},
   "source": [
    "# Voxelize"
   ]
  },
  {
   "cell_type": "code",
   "execution_count": 1,
   "metadata": {},
   "outputs": [],
   "source": [
    "from voxelize import *\n",
    "\n",
    "data_path = '/home/jiazx_ug/dataset/S4/O/training/velodyne/335422.bin'\n",
    "label_path = '/home/jiazx_ug/dataset/S4/O/training/label_2/335422.txt'\n",
    "\n",
    "vsize_xyz = np.array([0.5, 0.5, 1])       \n",
    "coors_range_xyz = np.array([-70.4, -40, -3, 70.4, 40, 1])  \n",
    "num_point_features = 4                                 \n",
    "max_num_points_per_voxel = 5               \n",
    "max_num_voxels = 16000\n",
    "input_channels = 4\n",
    "\n",
    "grid_size = get_grid_size(coors_range_xyz, vsize_xyz)\n",
    "backbone = input_backbone(input_channels, grid_size)\n",
    "checker = isPointInQuadrangle()"
   ]
  },
  {
   "cell_type": "code",
   "execution_count": 2,
   "metadata": {},
   "outputs": [],
   "source": [
    "points = read_data(data_path)\n",
    "voxels, voxel_indices, num_points = create_voxel(points, vsize_xyz, coors_range_xyz,num_point_features ,max_num_points_per_voxel, max_num_voxels)\n",
    "input_feature, input_indices = get_input_feature(voxels, num_points, voxel_indices, backbone)\n",
    "indices_3d = indices_to_3d(input_indices, grid_size)\n",
    "\n",
    "corners_3Ds = read_label(label_path)\n",
    "corners_voxelaxis = corners_to_voxelaxis(corners_3Ds, coors_range_xyz, vsize_xyz)\n",
    "feature_keys = get_inner_voxel(corners_voxelaxis, checker)\n",
    "features = get_inner_voxel_feature(input_feature, indices_3d, feature_keys, grid_size)"
   ]
  },
  {
   "cell_type": "code",
   "execution_count": 17,
   "metadata": {},
   "outputs": [
    {
     "data": {
      "text/plain": [
       "(428, 16)"
      ]
     },
     "execution_count": 17,
     "metadata": {},
     "output_type": "execute_result"
    }
   ],
   "source": [
    "feature_array = np.array(features)\n",
    "feature_array.shape"
   ]
  },
  {
   "cell_type": "markdown",
   "metadata": {},
   "source": [
    "# MRMR"
   ]
  },
  {
   "cell_type": "code",
   "execution_count": 3,
   "metadata": {},
   "outputs": [],
   "source": [
    "import pandas as pd\n",
    "from mrmr import mrmr_classif\n",
    "feature_array = pd.DataFrame(feature_array)\n",
    "feature_label = pd.Series(np.ones(len(feature_array)))\n",
    "selected_features = mrmr_classif(X=feature_array, y=feature_label, K=6)\n",
    "selected_features"
   ]
  },
  {
   "cell_type": "markdown",
   "metadata": {},
   "source": [
    "# Deepcore"
   ]
  },
  {
   "cell_type": "code",
   "execution_count": null,
   "metadata": {},
   "outputs": [],
   "source": []
  }
 ],
 "metadata": {
  "kernelspec": {
   "display_name": "det_cu117",
   "language": "python",
   "name": "python3"
  },
  "language_info": {
   "codemirror_mode": {
    "name": "ipython",
    "version": 3
   },
   "file_extension": ".py",
   "mimetype": "text/x-python",
   "name": "python",
   "nbconvert_exporter": "python",
   "pygments_lexer": "ipython3",
   "version": "3.8.18"
  }
 },
 "nbformat": 4,
 "nbformat_minor": 2
}
