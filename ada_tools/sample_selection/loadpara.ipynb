{
 "cells": [
  {
   "cell_type": "code",
   "execution_count": 1,
   "metadata": {},
   "outputs": [],
   "source": [
    "from pathlib import Path\n",
    "import os\n",
    "from functools import partial\n",
    "import numpy as np\n",
    "import torch\n",
    "import time\n",
    "import spconv.pytorch as spconv\n",
    "import torch.nn as nn\n",
    "\n",
    "class input_backbone(nn.Module):\n",
    "    def __init__(self, input_channels, grid_size):\n",
    "        super().__init__()\n",
    "        norm_fn = partial(nn.BatchNorm1d, eps=1e-3, momentum=0.01)\n",
    "        self.sparse_shape = grid_size[::-1] + [1, 0, 0]\n",
    "\n",
    "        self.conv_input = spconv.SparseSequential(\n",
    "            spconv.SubMConv3d(input_channels, 16, 3, padding=1, bias=False, indice_key=\"subm0\").to(0),\n",
    "            norm_fn(16).to(0),\n",
    "            nn.ReLU()\n",
    "        )\n",
    "\n",
    "    def forward(self, voxel_features, voxel_coords):\n",
    "        sp_tensor = spconv.SparseConvTensor(\n",
    "            features = voxel_features,\n",
    "            indices = voxel_coords,\n",
    "            spatial_shape = self.sparse_shape,\n",
    "            batch_size = 1\n",
    "        )\n",
    "\n",
    "        x = self.conv_input(sp_tensor)\n",
    "        return x\n"
   ]
  },
  {
   "cell_type": "code",
   "execution_count": 2,
   "metadata": {},
   "outputs": [],
   "source": [
    "label_dict = {'Car':0, 'Pedestrian':1, 'Rider':2, 'Truck':3, 'Van':4}\n",
    "vsize_xyz = np.array([0.5, 0.5, 1])       \n",
    "coors_range_xyz = np.array([-70.4, -40, -3, 70.4, 40, 1])  \n",
    "num_point_features = 4                                 \n",
    "max_num_points_per_voxel = 5               \n",
    "max_num_voxels = 16000\n",
    "input_channels = 4\n",
    "grid_size = (coors_range_xyz[3:6] - coors_range_xyz[0:3]) / np.array(vsize_xyz)\n",
    "grid_size = np.round(grid_size).astype(np.int64)\n",
    "\n",
    "ckpt_path = './../../output/kitti_models/voxel_rcnn_car/A_S22/ckpt/checkpoint_epoch_160.pth'\n",
    "trained_dict = torch.load(ckpt_path)"
   ]
  },
  {
   "cell_type": "code",
   "execution_count": 3,
   "metadata": {},
   "outputs": [],
   "source": [
    "model = input_backbone(input_channels, grid_size)"
   ]
  },
  {
   "cell_type": "code",
   "execution_count": 4,
   "metadata": {},
   "outputs": [
    {
     "data": {
      "text/plain": [
       "<All keys matched successfully>"
      ]
     },
     "execution_count": 4,
     "metadata": {},
     "output_type": "execute_result"
    }
   ],
   "source": [
    "model_dict = model.state_dict()\n",
    "state_dict = {k:v for k,v in trained_dict.items() if k in model_dict.keys()}\n",
    "model_dict.update(state_dict)\n",
    "model.load_state_dict(model_dict)"
   ]
  }
 ],
 "metadata": {
  "kernelspec": {
   "display_name": "det_cu117",
   "language": "python",
   "name": "python3"
  },
  "language_info": {
   "codemirror_mode": {
    "name": "ipython",
    "version": 3
   },
   "file_extension": ".py",
   "mimetype": "text/x-python",
   "name": "python",
   "nbconvert_exporter": "python",
   "pygments_lexer": "ipython3",
   "version": "3.8.18"
  }
 },
 "nbformat": 4,
 "nbformat_minor": 2
}
