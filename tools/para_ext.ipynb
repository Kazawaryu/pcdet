{
 "cells": [
  {
   "cell_type": "code",
   "execution_count": 1,
   "metadata": {},
   "outputs": [
    {
     "name": "stdout",
     "output_type": "stream",
     "text": [
      "Jupyter environment detected. Enabling Open3D WebVisualizer.\n",
      "[Open3D INFO] WebRTC GUI backend enabled.\n",
      "[Open3D INFO] WebRTCWindowSystem: HTTP handshake server disabled.\n"
     ]
    }
   ],
   "source": [
    "import argparse\n",
    "import glob\n",
    "from pathlib import Path\n",
    "import open3d\n",
    "import os\n",
    "\n",
    "import numpy as np\n",
    "import torch\n",
    "import time\n",
    "import demo as demo\n",
    "\n",
    "from pcdet.config import cfg, cfg_from_yaml_file\n",
    "from pcdet.datasets import DatasetTemplate\n",
    "from pcdet.models import build_network, load_data_to_gpu\n",
    "from pcdet.utils import common_utils\n",
    "\n",
    "\n",
    "# 3 tool class, PillarVFE, PFNLayer, PointPillarScatter\n",
    "from pcdet.models.backbones_3d.vfe import pillar_vfe as VFE\n",
    "from pcdet.models.backbones_2d.map_to_bev import pointpillar_scatter as Scatter\n",
    "\n",
    "os.environ[\"CUDA_VISIBLE_DEVICES\"] = \"5\"\n",
    "torch.cuda.set_device(5)"
   ]
  },
  {
   "cell_type": "code",
   "execution_count": 2,
   "metadata": {},
   "outputs": [
    {
     "name": "stderr",
     "output_type": "stream",
     "text": [
      "2024-03-07 07:32:24,028   INFO  Test to get the VFE params2024-03-07 07:32:24\n",
      "/home/jiazx_ug/anaconda3/envs/det_cu117/lib/python3.8/site-packages/torch/functional.py:504: UserWarning: torch.meshgrid: in an upcoming release, it will be required to pass the indexing argument. (Triggered internally at ../aten/src/ATen/native/TensorShape.cpp:3190.)\n",
      "  return _VF.meshgrid(tensors, **kwargs)  # type: ignore[attr-defined]\n",
      "2024-03-07 07:32:31,796   INFO  ==> Loading parameters from checkpoint ./../output/kitti_models/pointpillar_copy/D_S2/ckpt/checkpoint_epoch_160.pth to CPU\n",
      "2024-03-07 07:32:31,896   INFO  ==> Checkpoint trained from version: pcdet+0.6.0+255db8f\n",
      "2024-03-07 07:32:32,012   INFO  ==> Done (loaded 127/127)\n"
     ]
    }
   ],
   "source": [
    "ckpt_path = './../output/kitti_models/pointpillar_copy/D_S2/ckpt/checkpoint_epoch_160.pth'\n",
    "cfg_path = './cfgs/kitti_models/pointpillar_copy.yaml'\n",
    "data_path = '/home/jiazx_ug/OpenPCDet/data/kitti/testing/velodyne/228931.bin'\n",
    "txt_path = '/home/jiazx_ug/OpenPCDet/data/kitti/testing/label_2/228931.txt'\n",
    "\n",
    "\n",
    "logger = common_utils.create_logger()   # logger.info('xxx')\n",
    "# common_utils.set_random_seed(66)\n",
    "logger.info('Test to get the VFE params' + time.strftime('%Y-%m-%d %H:%M:%S', time.localtime(time.time())))\n",
    "cfg_from_yaml_file(cfg_path, cfg)\n",
    "\n",
    "\n",
    "demo_dataset = demo.DemoDataset(\n",
    "    dataset_cfg=cfg.DATA_CONFIG, class_names=cfg.CLASS_NAMES, training=False,\n",
    "    root_path=Path(data_path), ext='.bin', logger=logger\n",
    ")\n",
    "\n",
    "model = build_network(model_cfg=cfg.MODEL, num_class=len(cfg.CLASS_NAMES), dataset=demo_dataset)\n",
    "model.load_params_from_file(filename=ckpt_path, logger=logger, to_cpu=True)"
   ]
  },
  {
   "cell_type": "code",
   "execution_count": 3,
   "metadata": {},
   "outputs": [
    {
     "name": "stdout",
     "output_type": "stream",
     "text": [
      "{'NAME': 'PointPillar', 'VFE': {'NAME': 'PillarVFE', 'WITH_DISTANCE': False, 'USE_ABSLOTE_XYZ': True, 'USE_NORM': True, 'NUM_FILTERS': [64]}, 'MAP_TO_BEV': {'NAME': 'PointPillarScatter', 'NUM_BEV_FEATURES': 64}, 'BACKBONE_2D': {'NAME': 'BaseBEVBackbone', 'LAYER_NUMS': [3, 5, 5], 'LAYER_STRIDES': [2, 2, 2], 'NUM_FILTERS': [64, 128, 256], 'UPSAMPLE_STRIDES': [1, 2, 4], 'NUM_UPSAMPLE_FILTERS': [128, 128, 128]}, 'DENSE_HEAD': {'NAME': 'AnchorHeadSingle', 'CLASS_AGNOSTIC': False, 'USE_DIRECTION_CLASSIFIER': True, 'DIR_OFFSET': 0.78539, 'DIR_LIMIT_OFFSET': 0.0, 'NUM_DIR_BINS': 2, 'ANCHOR_GENERATOR_CONFIG': [{'class_name': 'Car', 'anchor_sizes': [[3.9, 1.6, 1.56]], 'anchor_rotations': [0, 1.57], 'anchor_bottom_heights': [-1.78], 'align_center': False, 'feature_map_stride': 2, 'matched_threshold': 0.6, 'unmatched_threshold': 0.45}, {'class_name': 'Pedestrian', 'anchor_sizes': [[0.8, 0.6, 1.73]], 'anchor_rotations': [0, 1.57], 'anchor_bottom_heights': [-0.6], 'align_center': False, 'feature_map_stride': 2, 'matched_threshold': 0.5, 'unmatched_threshold': 0.35}, {'class_name': 'Rider', 'anchor_sizes': [[1.76, 0.6, 1.73]], 'anchor_rotations': [0, 1.57], 'anchor_bottom_heights': [-0.6], 'align_center': False, 'feature_map_stride': 2, 'matched_threshold': 0.5, 'unmatched_threshold': 0.35}, {'class_name': 'Truck', 'anchor_sizes': [[3.9, 1.6, 1.56]], 'anchor_rotations': [0, 1.57], 'anchor_bottom_heights': [-1.78], 'align_center': False, 'feature_map_stride': 2, 'matched_threshold': 0.6, 'unmatched_threshold': 0.45}, {'class_name': 'Van', 'anchor_sizes': [[3.9, 1.6, 1.56]], 'anchor_rotations': [0, 1.57], 'anchor_bottom_heights': [-1.78], 'align_center': False, 'feature_map_stride': 2, 'matched_threshold': 0.6, 'unmatched_threshold': 0.45}], 'TARGET_ASSIGNER_CONFIG': {'NAME': 'AxisAlignedTargetAssigner', 'POS_FRACTION': -1.0, 'SAMPLE_SIZE': 512, 'NORM_BY_NUM_EXAMPLES': False, 'MATCH_HEIGHT': False, 'BOX_CODER': 'ResidualCoder'}, 'LOSS_CONFIG': {'LOSS_WEIGHTS': {'cls_weight': 1.0, 'loc_weight': 2.0, 'dir_weight': 0.2, 'code_weights': [1.0, 1.0, 1.0, 1.0, 1.0, 1.0, 1.0]}}}, 'POST_PROCESSING': {'RECALL_THRESH_LIST': [0.3, 0.5, 0.7], 'SCORE_THRESH': 0.1, 'OUTPUT_RAW_SCORE': False, 'EVAL_METRIC': 'kitti', 'NMS_CONFIG': {'MULTI_CLASSES_NMS': False, 'NMS_TYPE': 'nms_gpu', 'NMS_THRESH': 0.01, 'NMS_PRE_MAXSIZE': 4096, 'NMS_POST_MAXSIZE': 500}}}\n"
     ]
    }
   ],
   "source": [
    "import torch\n",
    "import kornia\n",
    "\n",
    "voxel_size = torch.tensor([0.16, 0.16, 4])\n",
    "pc_range = torch.tensor([-69.12, -39.68, -3., 69.12, 39.68, 1.])\n",
    "\n",
    "def trans_data_2_tensor(batch_dict):\n",
    "    for key, val in batch_dict.items():\n",
    "        if key == 'camera_imgs':\n",
    "            batch_dict[key] = val.cuda()\n",
    "        elif not isinstance(val, np.ndarray):\n",
    "            continue\n",
    "        elif key in ['frame_id', 'metadata', 'calib', 'image_paths','ori_shape','img_process_infos']:\n",
    "            continue\n",
    "        elif key in ['images']:\n",
    "            batch_dict[key] = kornia.image_to_tensor(val).float()\n",
    "        elif key in ['image_shape']:\n",
    "            batch_dict[key] = torch.from_numpy(val).int()\n",
    "        else:\n",
    "            batch_dict[key] = torch.from_numpy(val).float()\n",
    "\n",
    "with torch.no_grad():\n",
    "    for idx, data_dict in enumerate(demo_dataset):\n",
    "        data_dict = demo_dataset.collate_batch([data_dict])\n",
    "        trans_data_2_tensor(data_dict)\n",
    "\n",
    "model_cfg = model.model_cfg\n",
    "print(model_cfg)\n",
    "num_point_features = model_cfg.VFE.NUM_FILTERS\n",
    "num_point_features = 4\n",
    "\n",
    "in_channels = 10\n",
    "out_channels = 64\n",
    "use_norm = True\n",
    "last_layer = True\n",
    "grid_size = [(pc_range[3] - pc_range[0]) / voxel_size[0], (pc_range[4] - pc_range[1]) / voxel_size[1], 1]\n",
    "grid_size = torch.tensor(grid_size).int()\n"
   ]
  },
  {
   "cell_type": "code",
   "execution_count": 4,
   "metadata": {},
   "outputs": [
    {
     "name": "stdout",
     "output_type": "stream",
     "text": [
      "True\n"
     ]
    }
   ],
   "source": [
    "\n",
    "class isPointInQuadrangle(object):\n",
    "\n",
    "    def __int__(self):\n",
    "        self.__isInQuadrangleFlag = False\n",
    "\n",
    "    def cross_product(self, xp, yp, x1, y1, x2, y2):\n",
    "        return (x2 - x1) * (yp - y1)-(y2 - y1) * (xp - x1)\n",
    "\n",
    "    def compute_para(self, xp, yp, xa, ya, xb, yb, xc, yc, xd, yd):\n",
    "        cross_product_ab = isPointInQuadrangle().cross_product(xp, yp, xa, ya, xb, yb)\n",
    "        cross_product_bc = isPointInQuadrangle().cross_product(xp, yp, xb, yb, xc, yc)\n",
    "        cross_product_cd = isPointInQuadrangle().cross_product(xp, yp, xc, yc, xd, yd)\n",
    "        cross_product_da = isPointInQuadrangle().cross_product(xp, yp, xd, yd, xa, ya)\n",
    "        return cross_product_ab,cross_product_bc,cross_product_cd,cross_product_da\n",
    "\n",
    "    def is_in_rect(self, aa, bb, cc, dd):\n",
    "        if (aa > 0 and bb > 0 and cc > 0 and dd > 0) or (aa < 0 and bb < 0 and cc < 0 and dd < 0):\n",
    "            self.__isInQuadrangleFlag= True\n",
    "        else:\n",
    "            self.__isInQuadrangleFlag = False\n",
    "\n",
    "        return self.__isInQuadrangleFlag\n",
    "\n",
    "if __name__ == '__main__':\n",
    "    aa, bb, cc, dd = isPointInQuadrangle().compute_para(600, 550, 508, 451, 730, 470, 718, 615, 495, 596)\n",
    "    print(isPointInQuadrangle().is_in_rect(aa, bb, cc, dd))\n"
   ]
  },
  {
   "cell_type": "code",
   "execution_count": 5,
   "metadata": {},
   "outputs": [
    {
     "name": "stdout",
     "output_type": "stream",
     "text": [
      "Done, torch.Size([1, 64, 496, 864])\n",
      "tensor([[  0.,   0., 329., 346.],\n",
      "        [  0.,   0., 330., 346.],\n",
      "        [  0.,   0., 373., 326.],\n",
      "        ...,\n",
      "        [  0.,   0., 241., 400.],\n",
      "        [  0.,   0., 242., 400.],\n",
      "        [  0.,   0., 243., 400.]])\n",
      "tensor(2528055., grad_fn=<SumBackward1>)\n",
      "tensor(2528055., grad_fn=<SumBackward0>)\n"
     ]
    }
   ],
   "source": [
    "import pandas as pd\n",
    "\n",
    "pillarVFE = VFE.PillarVFE(model_cfg=model_cfg.VFE, num_point_features=num_point_features, voxel_size=voxel_size, point_cloud_range=pc_range)\n",
    "pillarVFE.forward(data_dict)\n",
    "\n",
    "pillarScatter = Scatter.PointPillarScatter(model_cfg=model_cfg.MAP_TO_BEV, grid_size=grid_size)\n",
    "pillarScatter.forward(data_dict)\n",
    "\n",
    "print('Done,',data_dict['spatial_features'].shape)\n",
    "print(data_dict['voxel_coords'])\n",
    "\n",
    "sum_all_pillar_features = torch.sum(data_dict['pillar_features'], dim=0)\n",
    "sumsum_pillar_features = torch.sum(sum_all_pillar_features, dim=0)\n",
    "print(sumsum_pillar_features)\n",
    "\n",
    "sum_spatial_features = torch.sum(data_dict['spatial_features'])\n",
    "print(sum_spatial_features)\n"
   ]
  },
  {
   "cell_type": "code",
   "execution_count": 6,
   "metadata": {},
   "outputs": [
    {
     "name": "stdout",
     "output_type": "stream",
     "text": [
      "[262 263 264 265 266 267 268 269 270 271 272 273 274 275 276 277 278 279\n",
      " 280 281 282 283 284 285 286 287 288 289 290 291 292 293] [241 242 243 244 245 246 247 248 249 250 251 252 253 254 255 256 257 258\n",
      " 259 260 261]\n",
      "[253 254 255 256 257 258 259 260 261 262 263 264 265 266 267 268 269 270\n",
      " 271 272 273 274 275 276 277 278 279 280 281 282 283 284 285] [267 268 269 270 271 272 273 274 275 276 277 278 279 280 281 282 283 284\n",
      " 285 286 287 288 289 290]\n",
      "[523 524 525 526 527 528 529 530 531 532 533 534] [810 811 812 813 814 815 816 817 818 819 820 821 822 823 824 825 826 827\n",
      " 828 829 830 831 832 833 834]\n",
      "[434 435 436 437 438 439 440 441 442 443 444 445 446 447] [401 402 403 404 405 406 407 408 409 410 411 412 413 414 415 416 417 418\n",
      " 419 420 421 422 423 424 425 426 427]\n",
      "[719 720 721 722 723 724 725 726 727 728 729 730 731 732 733 734 735 736\n",
      " 737 738 739 740 741 742 743 744 745 746 747] [201 202 203 204 205 206 207 208 209 210 211 212 213 214]\n",
      "[886 887 888 889 890 891 892 893 894 895 896 897 898 899 900 901 902 903\n",
      " 904 905 906 907 908 909 910 911 912 913 914 915 916 917 918 919 920 921\n",
      " 922 923 924 925] [231 232 233 234 235 236 237 238 239 240 241 242 243 244 245 246 247 248]\n",
      "[471 472 473 474 475 476 477 478 479 480 481 482 483] [678 679 680 681 682 683 684 685 686 687 688 689 690 691 692 693 694 695\n",
      " 696 697 698 699 700 701 702]\n",
      "[486 487 488 489 490 491 492 493 494 495] [522 523 524 525 526 527 528 529 530 531 532 533 534 535 536]\n",
      "[519 520 521 522 523 524 525 526 527 528 529 530 531 532 533] [748 749 750 751 752 753 754 755 756 757 758 759 760 761 762 763 764 765\n",
      " 766 767 768 769 770 771 772 773 774 775 776 777 778 779 780]\n",
      "[181 182 183 184 185 186 187 188 189 190 191 192 193 194 195 196 197 198\n",
      " 199 200 201 202 203 204 205 206 207 208 209 210 211 212 213 214 215 216\n",
      " 217] [351 352 353 354 355 356 357 358 359 360 361 362 363 364 365 366 367 368\n",
      " 369 370 371 372 373 374 375 376 377 378 379 380 381]\n",
      "[622 623] [333 334]\n",
      "[937 938] [318 319]\n",
      "[551 552] [522 523]\n",
      "[769 770] [170 171 172]\n",
      "[690 691] [310 311]\n",
      "[920 921] [144 145]\n",
      "[272 273] [195 196]\n",
      "[868 869 870] [140 141 142]\n",
      "[839 840 841] [144 145 146]\n",
      "[660 661] [330 331]\n",
      "[736 737 738] [150 151 152]\n",
      "[772 773 774 775 776 777 778 779 780 781 782 783 784] [224 225 226 227 228 229]\n",
      "[618 619 620 621 622 623 624 625 626 627 628 629] [273 274 275 276 277 278 279]\n",
      "[516 517 518 519 520 521 522 523 524 525 526 527] [263 264 265 266 267]\n",
      "[[263 252]\n",
      " [264 252]\n",
      " [264 253]\n",
      " ...\n",
      " [527 265]\n",
      " [527 266]\n",
      " [527 267]]\n"
     ]
    },
    {
     "data": {
      "image/png": "[encoded data removed]",
      "text/plain": [
       "<Figure size 600x600 with 1 Axes>"
      ]
     },
     "metadata": {},
     "output_type": "display_data"
    }
   ],
   "source": [
    "# read txt\n",
    "import pandas as pd\n",
    "import numpy as np\n",
    "import open3d\n",
    "import matplotlib.pyplot as plt\n",
    "\n",
    "# pcd_path = '/home/ghosnp/dataset/mini_kitti/velodyne/training/velodyne/000011.bin'\n",
    "# txt_path = '/home/ghosnp/dataset/mini_kitti/label_2/training/label_2/000011.txt'\n",
    "POINT_CLOUD_RANGE = np.array([-69.12, -39.68, -3, 69.12, 39.68, 1], dtype=np.float32)\n",
    "\n",
    "with open(txt_path, 'r') as f:\n",
    "    txt = f.readlines()\n",
    "\n",
    "pcd = np.fromfile(data_path, dtype=np.float32).reshape(-1, 4)\n",
    "corners_bevs = []\n",
    "corners_3Ds = []\n",
    "\n",
    "\n",
    "\n",
    "for line in txt:\n",
    "    line = line.split()\n",
    "    lab, x, y, z, w, l, h, rot = line[0], line[11], line[12], line[13], line[9], line[10], line[8], line[14]\n",
    "    h, w, l, x, y, z, rot = map(float, [h, w, l, x, y, z, rot])\n",
    "    \n",
    "    if lab != 'DontCare':\n",
    "        x_corners = [l / 2, l / 2, -l / 2, -l / 2, l / 2, l / 2, -l / 2, -l / 2]\n",
    "        y_corners = [0, 0, 0, 0, -h, -h, -h, -h]\n",
    "        z_corners = [w / 2, -w / 2, -w / 2, w / 2, w / 2, -w / 2, -w / 2, w / 2]\n",
    "        corners_3d = np.vstack([x_corners, y_corners, z_corners])  # (3, 8)\n",
    "\n",
    "        # transform the 3d bbox from object coordiante to camera_0 coordinate\n",
    "        R = np.array([[np.cos(rot), 0, np.sin(rot)],\n",
    "                    [0, 1, 0],\n",
    "                    [-np.sin(rot), 0, np.cos(rot)]])\n",
    "   \n",
    "        corners_3d = np.dot(R, corners_3d).T + np.array([x, y, z])\n",
    "\n",
    "        # transform the 3d bbox from camera_0 coordinate to velodyne coordinate\n",
    "        corners_3d = corners_3d[:, [2, 0, 1]] * np.array([[1, -1, -1]])\n",
    "        corners_3Ds.append(corners_3d)\n",
    "        corners_bevs.append(corners_3d[:4, [0, 1]])\n",
    "        \n",
    "corners_bevs = np.array(corners_bevs)\n",
    "\n",
    "# corners_bevs add range offset\n",
    "corners_bevs[:, :, 0] += POINT_CLOUD_RANGE[3]\n",
    "corners_bevs[:, :, 1] += POINT_CLOUD_RANGE[4]\n",
    "corners_bevs /= 0.16\n",
    "\n",
    "\n",
    "feature_idx = []\n",
    "tool = isPointInQuadrangle()\n",
    "# Get the index in the range of corners_bevs\n",
    "for corners in corners_bevs:\n",
    "\n",
    "    vector01 = corners[1] - corners[0]\n",
    "    vector03 = corners[3] - corners[0]\n",
    "    square_area = np.linalg.norm(vector01) * np.linalg.norm(vector03)\n",
    "    max_x, min_x, max_y, min_y = np.max(corners[:,0]), np.min(corners[:,0]), np.max(corners[:,1]), np.min(corners[:,1])\n",
    "    max_x, min_x, max_y, min_y = int(max_x), int(min_x), int(max_y), int(min_y)\n",
    "    # get x,y with (min_x < x < max_x and min_y < y < max_y)\n",
    "    x = np.arange(min_x, max_x)\n",
    "    y = np.arange(min_y, max_y)\n",
    "    print(x,y)\n",
    "    temp_add = []\n",
    "    for i in x:\n",
    "        for j in y:\n",
    "            a, b, c, d = tool.compute_para(i, j, corners[0][0], corners[0][1], corners[1][0], corners[1][1], corners[2][0], corners[2][1], corners[3][0], corners[3][1])\n",
    "            res = tool.is_in_rect(a, b, c, d)\n",
    "            if res:\n",
    "                feature_idx.append([i, j])\n",
    "                temp_add.append([i, j])\n",
    "    \n",
    "feature_idx = np.array(feature_idx)\n",
    "print(feature_idx)\n",
    "\n",
    "# visualize the block with feature_idx\n",
    "fig = plt.figure(figsize=(6, 6))\n",
    "for corners_bev in corners_bevs:\n",
    "    plt.plot(corners_bev[:,0], corners_bev[:,1], 'r-')\n",
    "plt.scatter(feature_idx[:,0], feature_idx[:,1], s=1)\n",
    "plt.xlim(0, 864)\n",
    "plt.ylim(0, 864)\n",
    "plt.show()\n",
    "\n"
   ]
  },
  {
   "cell_type": "code",
   "execution_count": 7,
   "metadata": {},
   "outputs": [
    {
     "name": "stdout",
     "output_type": "stream",
     "text": [
      "(1927, 64)\n"
     ]
    }
   ],
   "source": [
    "# drop the idx out of the range(496,864)\n",
    "feature_idx = feature_idx[feature_idx[:,0] < 496]\n",
    "feature_idx = feature_idx[feature_idx[:,1] < 864]\n",
    "\n",
    "spatial_features_cpu = data_dict['spatial_features'][0]\n",
    "valid_features_cpu = spatial_features_cpu[:, feature_idx[:,0], feature_idx[:,1]]\n",
    "sum_features_cpu = torch.sum(valid_features_cpu, dim=1)\n",
    "sumsum_features_cpu = torch.sum(sum_features_cpu, dim=0)\n",
    "mean_features_cpu = torch.mean(valid_features_cpu, dim=1)\n",
    "# valid_features_cpu = valid_features_cpu.numpy()\n",
    "# tensor.detach().numpy()\n",
    "valid_features_cpu = valid_features_cpu.detach().numpy().T\n",
    "print(valid_features_cpu.shape)"
   ]
  },
  {
   "cell_type": "code",
   "execution_count": 8,
   "metadata": {},
   "outputs": [],
   "source": [
    "# feature_idx = feature_idx[feature_idx[:,0] < 496]\n",
    "# feature_idx = feature_idx[feature_idx[:,1] < 864]\n",
    "\n",
    "# # feature_idx load to gpu\n",
    "# feature_idx_gpu = torch.from_numpy(feature_idx).cuda()\n",
    "# # load the spatial_features, on gpu\n",
    "# spatial_features_gpu = data_dict['spatial_features'][0].cuda()\n",
    "# # spatial_features_gpu = data_dict['spatial_features'][0]\n",
    "# # get the feature with feature_idx\n",
    "# valid_features_gpu = spatial_features_gpu[:, feature_idx_gpu[:,1], feature_idx_gpu[:,0]]\n",
    "# # sum the features\n",
    "# sum_features_gpu = torch.sum(valid_features_gpu, dim=1)\n",
    "# sumsum_features_gpu = torch.sum(sum_features_gpu, dim=0)\n",
    "# print(sumsum_features_gpu)\n",
    "# # mean the features\n",
    "# mean_features_gpu = torch.mean(valid_features_gpu, dim=1)\n",
    "# mean_features = mean_features_gpu.detach().numpy()\n",
    "# valid_features = valid_features_gpu.detach().numpy().T\n"
   ]
  },
  {
   "cell_type": "code",
   "execution_count": 9,
   "metadata": {},
   "outputs": [
    {
     "name": "stdout",
     "output_type": "stream",
     "text": [
      "(64,) torch.Size([64])\n",
      "(64, 10)\n"
     ]
    }
   ],
   "source": [
    "\n",
    "for name, param in model.named_parameters():\n",
    "    # print(name, param.shape)\n",
    "    if name == 'vfe.pfn_layers.0.linear.weight':\n",
    "        vfe_pfn_weight = param.detach().cpu().numpy()\n",
    "    elif name == 'vfe.pfn_layers.0.norm.weight':\n",
    "        vfe_pfn_norm_weight = param.detach().cpu().numpy()\n",
    "    elif name == 'vfe.pfn_layers.0.norm.bias':\n",
    "        vfe_pfn_norm_bias = param.detach().cpu().numpy()\n",
    "    else:\n",
    "        pass\n",
    "\n",
    "print(vfe_pfn_norm_weight.shape, mean_features_cpu.shape)\n",
    "print(vfe_pfn_weight.shape)\n",
    "\n"
   ]
  },
  {
   "cell_type": "code",
   "execution_count": 10,
   "metadata": {},
   "outputs": [
    {
     "name": "stdout",
     "output_type": "stream",
     "text": [
      "RAND 0.14670218575730298 10.464966914592008\n",
      "MEAN -0.038620131356375556 11.526757\n"
     ]
    }
   ],
   "source": [
    "# calcuate the  Pearson correlation coefficient (PCC) of the features\n",
    "def cal_PCC(a,b):\n",
    "    # a,b are two vectors, both are numpy array(64,)\n",
    "    a_mean = np.mean(a)\n",
    "    b_mean = np.mean(b)\n",
    "    a_std = np.std(a)\n",
    "    b_std = np.std(b)\n",
    "    a = (a - a_mean) / a_std\n",
    "    b = (b - b_mean) / b_std\n",
    "\n",
    "    pcc = np.sum(a * b) / (64 - 1)\n",
    "    return pcc\n",
    "\n",
    "def cal_DIST(a,b):\n",
    "    # a,b are two vectors, both are numpy array(64,)\n",
    "    a_mean = np.mean(a)\n",
    "    b_mean = np.mean(b)\n",
    "    a_std = np.std(a)\n",
    "    b_std = np.std(b)\n",
    "    a = (a - a_mean) / a_std\n",
    "    b = (b - b_mean) / b_std\n",
    "\n",
    "    dist = np.sqrt(np.sum(np.square(a - b)))\n",
    "    return dist\n",
    "\n",
    "\n",
    "\n",
    "# random a 64 dim vector\n",
    "random_vector = np.random.rand(64)\n",
    "print('RAND',cal_PCC(random_vector, vfe_pfn_norm_weight), cal_DIST(random_vector, vfe_pfn_norm_weight))\n",
    "\n",
    "\n",
    "new_valid_features = []\n",
    "for i in range(valid_features_cpu.shape[0]):\n",
    "    if np.sum(valid_features_cpu[i]) != 0:\n",
    "        new_valid_features.append(valid_features_cpu[i])\n",
    "\n",
    "new_mean_features = np.mean(new_valid_features, axis=0)\n",
    "print('MEAN',cal_PCC(new_mean_features, vfe_pfn_norm_weight), cal_DIST(new_mean_features, vfe_pfn_norm_weight))\n",
    "\n",
    "pccs , dists = [], []\n",
    "\n",
    "for f in new_valid_features:\n",
    "    norm_f = (f - np.mean(f)) / np.std(f)\n",
    "    pcc = cal_PCC(norm_f, vfe_pfn_norm_weight)\n",
    "    dist = cal_DIST(norm_f, vfe_pfn_norm_weight)\n",
    "    pccs.append(pcc)\n",
    "    dists.append(dist)\n",
    "\n",
    "pillar_features = data_dict['pillar_features'].detach().cpu().numpy()\n",
    "\n",
    "pccs_a, dists_a = [], []\n",
    "for f in pillar_features:\n",
    "    norm_f = (f - np.mean(f)) / np.std(f)\n",
    "    pcc = cal_PCC(norm_f, vfe_pfn_norm_weight)\n",
    "    dist = cal_DIST(norm_f, vfe_pfn_norm_weight)\n",
    "    pccs_a.append(pcc)\n",
    "    dists_a.append(dist)\n"
   ]
  },
  {
   "cell_type": "code",
   "execution_count": 11,
   "metadata": {},
   "outputs": [
    {
     "name": "stdout",
     "output_type": "stream",
     "text": [
      "VAILD\n",
      "PCC -0.06866782215684461 0.12843510246314999\n",
      "DIST 11.668492 0.7059884\n",
      "ALL\n",
      "PCC -0.024738788614950213 0.09674224769384542\n",
      "DIST 11.438293 0.5315682\n"
     ]
    }
   ],
   "source": [
    "print('VAILD')\n",
    "print('PCC', np.mean(pccs), np.std(pccs))\n",
    "print('DIST', np.mean(dists), np.std(dists))\n",
    "\n",
    "print('ALL')\n",
    "print('PCC', np.mean(pccs_a), np.std(pccs_a))\n",
    "print('DIST', np.mean(dists_a), np.std(dists_a))\n",
    "\n"
   ]
  },
  {
   "cell_type": "code",
   "execution_count": 12,
   "metadata": {},
   "outputs": [],
   "source": [
    "# # load data_dict['spatial_features'] to cpu\n",
    "# spatial_features = data_dict['spatial_features'].detach().cpu().numpy()\n",
    "# spatial_features = spatial_features[0]\n",
    "\n",
    "# feature_idx = feature_idx[feature_idx[:,0] < 496]\n",
    "# feature_idx = feature_idx[feature_idx[:,1] < 864]\n",
    "\n",
    "# valid_features = np.array(spatial_features[:,  feature_idx[:,1], feature_idx[:,0]])\n",
    "\n",
    "# # print(spatial_features.shape)\n",
    "\n",
    "\n",
    "# # valid_features = np.array(spatial_features[:, feature_idx[:,1], feature_idx[:,0]])\n",
    "\n",
    "# for name, param in model.named_parameters():\n",
    "#     # print(name, param.shape)\n",
    "#     if name == 'vfe.pfn_layers.0.linear.weight':\n",
    "#         vfe_pfn_weight = param.detach().cpu().numpy()\n",
    "#     elif name == 'vfe.pfn_layers.0.norm.weight':\n",
    "#         vfe_pfn_norm_weight = param.detach().cpu().numpy()\n",
    "#     elif name == 'vfe.pfn_layers.0.norm.bias':\n",
    "#         vfe_pfn_norm_bias = param.detach().cpu().numpy()\n",
    "#     else:\n",
    "#         pass\n",
    "# all_features = np.sum(spatial_features, axis=0)\n",
    "# print(\"[ALL]\")\n",
    "# print(all_features)\n",
    "\n",
    "\n",
    "# print(\"[MODEL]\")\n",
    "\n",
    "# print(vfe_pfn_norm_weight)\n",
    "\n",
    "# # print(\"[DATA]\")\n",
    "# # # print(valid_features)\n",
    "# # for f in valid_features:\n",
    "# #     print(f)\n",
    "\n"
   ]
  },
  {
   "cell_type": "code",
   "execution_count": 13,
   "metadata": {},
   "outputs": [
    {
     "name": "stdout",
     "output_type": "stream",
     "text": [
      "0.02362505405749544 0.04893671651987857\n",
      "0.13929063141655862 0.003082539515942347\n"
     ]
    }
   ],
   "source": [
    "from sklearn import svm\n",
    "\n",
    "\n",
    "X_train = vfe_pfn_weight.T\n",
    "X_test = valid_features_cpu\n",
    "clf = svm.OneClassSVM(nu=0.1, kernel=\"rbf\", gamma=0.05)\n",
    "clf.fit(X_train)\n",
    "\n",
    "distances = np.abs(clf.decision_function(X_test))\n",
    "print(np.mean(distances), np.std(distances))\n",
    "\n",
    "all_features = data_dict['pillar_features'].detach().cpu().numpy()\n",
    "distances = np.abs(clf.decision_function(all_features))\n",
    "print(np.mean(distances), np.std(distances))\n",
    "\n",
    "# DATA  -> MODEL\n",
    "# C-S2 -> C-S2\n",
    "# 0.019839489986762694 0.0450290048262891\n",
    "# 0.12566919739974516 0.004066661647355991\n",
    "\n",
    "# C-S2 -> B-S2\n",
    "# 0.02273767303443326 0.04526851864487868\n",
    "# 0.12930946103417057 0.003631496190221971\n",
    "\n",
    "# C-S2 -> A-S2\n",
    "# 0.023071117669783103 0.04811669151878394\n",
    "# 0.1376982921235265 0.000912575582206974\n",
    "\n",
    "# C-S2 -> D-S2\n",
    "# 0.02362505405749544 0.04893671651987857\n",
    "# 0.13929063141655862 0.003082539515942347"
   ]
  },
  {
   "cell_type": "code",
   "execution_count": 14,
   "metadata": {},
   "outputs": [
    {
     "name": "stdout",
     "output_type": "stream",
     "text": [
      "torch.Size([64, 10])\n"
     ]
    }
   ],
   "source": [
    "print(model.vfe.pfn_layers[0].linear.weight.shape)"
   ]
  },
  {
   "cell_type": "code",
   "execution_count": 15,
   "metadata": {},
   "outputs": [
    {
     "name": "stdout",
     "output_type": "stream",
     "text": [
      "(23991,)\n"
     ]
    },
    {
     "data": {
      "text/plain": [
       "<Figure size 600x500 with 0 Axes>"
      ]
     },
     "metadata": {},
     "output_type": "display_data"
    }
   ],
   "source": [
    "# draw (distance-PCC), use matplotib.plt\n",
    "import matplotlib.pyplot as plt\n",
    "fig = plt.figure(figsize=(6,5))\n",
    "print(distances.shape)\n"
   ]
  }
 ],
 "metadata": {
  "kernelspec": {
   "display_name": "pcdet",
   "language": "python",
   "name": "python3"
  },
  "language_info": {
   "codemirror_mode": {
    "name": "ipython",
    "version": 3
   },
   "file_extension": ".py",
   "mimetype": "text/x-python",
   "name": "python",
   "nbconvert_exporter": "python",
   "pygments_lexer": "ipython3",
   "version": "3.8.18"
  }
 },
 "nbformat": 4,
 "nbformat_minor": 2
}
