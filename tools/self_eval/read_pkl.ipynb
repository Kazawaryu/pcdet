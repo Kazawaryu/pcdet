{
 "cells": [
  {
   "cell_type": "code",
   "execution_count": 12,
   "metadata": {},
   "outputs": [],
   "source": [
    "# read pkl \n",
    "import pickle\n",
    "\n",
    "with open('./../kitti_infos_val.pkl', 'rb') as f:\n",
    "    data = pickle.load(f)"
   ]
  },
  {
   "cell_type": "code",
   "execution_count": 26,
   "metadata": {},
   "outputs": [
    {
     "name": "stdout",
     "output_type": "stream",
     "text": [
      "{'image_idx': '020123', 'image_shape': array([ 512, 1382], dtype=int32)}\n",
      "{'name': array(['Truck', 'Truck', 'Car', 'Truck', 'Pedestrian', 'Pedestrian'],\n",
      "      dtype='<U10'), 'truncated': array([0., 0., 0., 0., 0., 0.]), 'occluded': array([0., 0., 0., 0., 0., 0.]), 'alpha': array([0., 0., 0., 0., 0., 0.]), 'bbox': array([[0., 0., 0., 0.],\n",
      "       [0., 0., 0., 0.],\n",
      "       [0., 0., 0., 0.],\n",
      "       [0., 0., 0., 0.],\n",
      "       [0., 0., 0., 0.],\n",
      "       [0., 0., 0., 0.]], dtype=float32), 'dimensions': array([[1.9884, 2.5607, 5.9152],\n",
      "       [1.9884, 2.5607, 5.9152],\n",
      "       [1.9298, 1.6384, 5.2375],\n",
      "       [2.3512, 2.4314, 6.3656],\n",
      "       [0.3754, 1.86  , 0.3754],\n",
      "       [0.3754, 1.86  , 0.3754]]), 'location': array([[-41.5497,   2.4168,  13.9314],\n",
      "       [ -4.0263,   2.4175, -19.1663],\n",
      "       [ -2.3398,   2.4046,  13.0702],\n",
      "       [ -5.4526,   2.4133,  15.9427],\n",
      "       [-54.5957,   2.277 ,  10.9944],\n",
      "       [-85.7189,   2.277 ,  22.0407]], dtype=float32), 'rotation_y': array([ 1.5722e+00,  2.9000e-03, -6.8300e-01,  3.1080e+00,  1.7000e-03,\n",
      "        1.7000e-03]), 'score': array([-1., -1., -1., -1., -1., -1.]), 'difficulty': array([-1, -1, -1, -1, -1, -1], dtype=int32), 'index': array([0, 1, 2, 3, 4, 5], dtype=int32), 'gt_boxes_lidar': array([[ 14.31696224,  41.53388214,  -0.73812693,   1.9884    ,\n",
      "          5.9152    ,   2.5607    ,  -3.14299633],\n",
      "       [-18.84013176,   4.06420946,  -1.04553366,   1.9884    ,\n",
      "          5.9152    ,   2.5607    ,  -1.57369633],\n",
      "       [ 13.39325619,   2.32841921,  -1.68599415,   1.9298    ,\n",
      "          5.2375    ,   1.6384    ,  -0.88779633],\n",
      "       [ 16.2706356 ,   5.43668032,  -1.27342141,   2.3512    ,\n",
      "          6.3656    ,   2.4314    ,  -4.67879633],\n",
      "       [ 11.40156555,  54.5814743 ,  -0.76563507,   0.3754    ,\n",
      "          0.3754    ,   1.86      ,  -1.57249633],\n",
      "       [ 22.49737549,  85.68519592,  -0.42444211,   0.3754    ,\n",
      "          0.3754    ,   1.86      ,  -1.57249633]]), 'num_points_in_gt': array([  0,   0, 334, 625,   0,   0], dtype=int32)}\n",
      "[  0   0 334 625   0   0]\n"
     ]
    }
   ],
   "source": [
    "# from easydict import EasyDict\n",
    "import json\n",
    "\n",
    "print(data[3]['image'])\n",
    "print(data[3]['annos'])\n",
    "print(data[3]['annos']['num_points_in_gt'])\n"
   ]
  }
 ],
 "metadata": {
  "kernelspec": {
   "display_name": "pcdet",
   "language": "python",
   "name": "python3"
  },
  "language_info": {
   "codemirror_mode": {
    "name": "ipython",
    "version": 3
   },
   "file_extension": ".py",
   "mimetype": "text/x-python",
   "name": "python",
   "nbconvert_exporter": "python",
   "pygments_lexer": "ipython3",
   "version": "3.8.18"
  }
 },
 "nbformat": 4,
 "nbformat_minor": 2
}
